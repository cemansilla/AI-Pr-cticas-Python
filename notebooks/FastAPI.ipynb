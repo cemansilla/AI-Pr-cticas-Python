{
 "cells": [
  {
   "attachments": {},
   "cell_type": "markdown",
   "metadata": {},
   "source": [
    "## Dependencias\n",
    "### Instalación"
   ]
  },
  {
   "cell_type": "code",
   "execution_count": null,
   "metadata": {},
   "outputs": [],
   "source": [
    "!pip install fastapi uvicorn"
   ]
  },
  {
   "attachments": {},
   "cell_type": "markdown",
   "metadata": {},
   "source": [
    "### Importación"
   ]
  },
  {
   "cell_type": "code",
   "execution_count": null,
   "metadata": {},
   "outputs": [],
   "source": [
    "import uvicorn\n",
    "from fastapi import FastAPI,APIRouter\n",
    "from fastapi.middleware.cors import CORSMiddleware"
   ]
  },
  {
   "attachments": {},
   "cell_type": "markdown",
   "metadata": {},
   "source": [
    "## Variables y configuraciones"
   ]
  },
  {
   "cell_type": "code",
   "execution_count": null,
   "metadata": {},
   "outputs": [],
   "source": [
    "USE_NGROK=True\n",
    "NGROK_TOKEN=\"2LbDfCormSj2F476pcyn7qWKgzV_7V3JJ1aA6fCrsLGB1WhT1\"\n",
    "BASE_URL=\"http://127.0.0.1\"\n",
    "PORT=5000"
   ]
  },
  {
   "attachments": {},
   "cell_type": "markdown",
   "metadata": {},
   "source": [
    "## Controladores"
   ]
  },
  {
   "cell_type": "code",
   "execution_count": null,
   "metadata": {},
   "outputs": [],
   "source": [
    "def get_home():\n",
    "  return {\n",
    "    \"Hola\": \"Mundo!!\"\n",
    "  }\n",
    "\n",
    "def get_items(item_id: int):\n",
    "  # Aquí va la lógica para obtener un ítem específico\n",
    "  item = {\"id\": item_id, \"name\": \"Item {}\".format(item_id)}\n",
    "  return item\n",
    "\n",
    "def get_all_items():\n",
    "  # Aquí va la lógica para obtener todos los ítems\n",
    "  items = [{\"id\": i, \"name\": \"Item {}\".format(i)} for i in range(1, 11)]\n",
    "  return items"
   ]
  },
  {
   "attachments": {},
   "cell_type": "markdown",
   "metadata": {},
   "source": [
    "## Rutas"
   ]
  },
  {
   "cell_type": "code",
   "execution_count": null,
   "metadata": {},
   "outputs": [],
   "source": [
    "router = APIRouter()\n",
    "\n",
    "@router.get(\"/\")\n",
    "async def home():\n",
    "  return get_home()\n",
    "\n",
    "@router.get(\"/items/{item_id}\")\n",
    "async def read_item(item_id: int):\n",
    "  return get_items(item_id)\n",
    "\n",
    "@router.get(\"/items\")\n",
    "async def read_item():\n",
    "  return get_all_items()"
   ]
  },
  {
   "attachments": {},
   "cell_type": "markdown",
   "metadata": {},
   "source": [
    "## Lanzo la aplicación"
   ]
  },
  {
   "cell_type": "code",
   "execution_count": null,
   "metadata": {},
   "outputs": [],
   "source": [
    "app = FastAPI()\n",
    "\n",
    "app.add_middleware(\n",
    "  CORSMiddleware,\n",
    "  allow_origins=['*'],\n",
    "  allow_credentials=True,\n",
    "  allow_methods=['*'],\n",
    "  allow_headers=['*'],\n",
    ")\n",
    "\n",
    "app.include_router(router)\n",
    "\n",
    "if USE_NGROK:\n",
    "  # pyngrok should only ever be installed or initialized in a dev environment when this flag is set\n",
    "  from pyngrok import ngrok\n",
    "\n",
    "  ngrok.set_auth_token(NGROK_TOKEN)\n",
    "\n",
    "  # Open a ngrok tunnel to the dev server\n",
    "  public_url = ngrok.connect(PORT).public_url\n",
    "  print(\"ngrok tunnel \\\"{}\\\" -> \\\"{}:{}\\\"\".format(public_url, BASE_URL, PORT))\n",
    "\n",
    "config = uvicorn.Config(\"main:app\", port=PORT, log_level=\"info\", reload=True)\n",
    "server = uvicorn.Server(config)\n",
    "server.run()"
   ]
  }
 ],
 "metadata": {
  "kernelspec": {
   "display_name": ".venv",
   "language": "python",
   "name": "python3"
  },
  "language_info": {
   "codemirror_mode": {
    "name": "ipython",
    "version": 3
   },
   "file_extension": ".py",
   "mimetype": "text/x-python",
   "name": "python",
   "nbconvert_exporter": "python",
   "pygments_lexer": "ipython3",
   "version": "3.10.0"
  },
  "orig_nbformat": 4,
  "vscode": {
   "interpreter": {
    "hash": "c14bee393694180ffa377cb4faa081bda41aca5cc0a65ca276d1b3c913ee88e0"
   }
  }
 },
 "nbformat": 4,
 "nbformat_minor": 2
}
