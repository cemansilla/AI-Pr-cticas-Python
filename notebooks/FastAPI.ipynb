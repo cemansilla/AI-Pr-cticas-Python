{
  "cells": [
    {
      "cell_type": "markdown",
      "metadata": {
        "id": "ZM2liqNF3EDY"
      },
      "source": [
        "## Dependencias\n",
        "### Instalación"
      ]
    },
    {
      "cell_type": "code",
      "execution_count": 6,
      "metadata": {
        "id": "2uMaVi1T3EDb",
        "outputId": "7f8a0600-4695-4c42-faec-68dee2ebf65b",
        "colab": {
          "base_uri": "https://localhost:8080/"
        }
      },
      "outputs": [
        {
          "output_type": "stream",
          "name": "stdout",
          "text": [
            "Looking in indexes: https://pypi.org/simple, https://us-python.pkg.dev/colab-wheels/public/simple/\n",
            "Requirement already satisfied: fastapi in /usr/local/lib/python3.8/dist-packages (0.92.0)\n",
            "Requirement already satisfied: uvicorn in /usr/local/lib/python3.8/dist-packages (0.20.0)\n",
            "Requirement already satisfied: pyngrok in /usr/local/lib/python3.8/dist-packages (5.2.1)\n",
            "Requirement already satisfied: nest_asyncio in /usr/local/lib/python3.8/dist-packages (1.5.6)\n",
            "Collecting python-multipart\n",
            "  Downloading python-multipart-0.0.5.tar.gz (32 kB)\n",
            "  Preparing metadata (setup.py) ... \u001b[?25l\u001b[?25hdone\n",
            "Requirement already satisfied: pydantic!=1.7,!=1.7.1,!=1.7.2,!=1.7.3,!=1.8,!=1.8.1,<2.0.0,>=1.6.2 in /usr/local/lib/python3.8/dist-packages (from fastapi) (1.10.4)\n",
            "Requirement already satisfied: starlette<0.26.0,>=0.25.0 in /usr/local/lib/python3.8/dist-packages (from fastapi) (0.25.0)\n",
            "Requirement already satisfied: click>=7.0 in /usr/local/lib/python3.8/dist-packages (from uvicorn) (7.1.2)\n",
            "Requirement already satisfied: h11>=0.8 in /usr/local/lib/python3.8/dist-packages (from uvicorn) (0.14.0)\n",
            "Requirement already satisfied: PyYAML in /usr/local/lib/python3.8/dist-packages (from pyngrok) (6.0)\n",
            "Requirement already satisfied: six>=1.4.0 in /usr/local/lib/python3.8/dist-packages (from python-multipart) (1.15.0)\n",
            "Requirement already satisfied: typing-extensions>=4.2.0 in /usr/local/lib/python3.8/dist-packages (from pydantic!=1.7,!=1.7.1,!=1.7.2,!=1.7.3,!=1.8,!=1.8.1,<2.0.0,>=1.6.2->fastapi) (4.4.0)\n",
            "Requirement already satisfied: anyio<5,>=3.4.0 in /usr/local/lib/python3.8/dist-packages (from starlette<0.26.0,>=0.25.0->fastapi) (3.6.2)\n",
            "Requirement already satisfied: idna>=2.8 in /usr/local/lib/python3.8/dist-packages (from anyio<5,>=3.4.0->starlette<0.26.0,>=0.25.0->fastapi) (2.10)\n",
            "Requirement already satisfied: sniffio>=1.1 in /usr/local/lib/python3.8/dist-packages (from anyio<5,>=3.4.0->starlette<0.26.0,>=0.25.0->fastapi) (1.3.0)\n",
            "Building wheels for collected packages: python-multipart\n",
            "  Building wheel for python-multipart (setup.py) ... \u001b[?25l\u001b[?25hdone\n",
            "  Created wheel for python-multipart: filename=python_multipart-0.0.5-py3-none-any.whl size=31678 sha256=7b4b7f5c089e90fad809420f4be2cc52e47b9574e2f624b501829a365272f99f\n",
            "  Stored in directory: /root/.cache/pip/wheels/9e/fc/1c/cf980e6413d3ee8e70cd8f39e2366b0f487e3e221aeb452eb0\n",
            "Successfully built python-multipart\n",
            "Installing collected packages: python-multipart\n",
            "Successfully installed python-multipart-0.0.5\n",
            "  Preparing metadata (setup.py) ... \u001b[?25l\u001b[?25hdone\n"
          ]
        }
      ],
      "source": [
        "!pip install fastapi uvicorn pyngrok nest_asyncio python-multipart\n",
        "!pip install git+https://github.com/openai/whisper.git -q"
      ]
    },
    {
      "cell_type": "markdown",
      "metadata": {
        "id": "0v1oNGOr3EDd"
      },
      "source": [
        "### Importación"
      ]
    },
    {
      "cell_type": "code",
      "execution_count": 7,
      "metadata": {
        "id": "jIQgrJTh3EDd"
      },
      "outputs": [],
      "source": [
        "# API\n",
        "import uvicorn\n",
        "import nest_asyncio\n",
        "from fastapi import FastAPI,APIRouter,File,UploadFile\n",
        "from fastapi.middleware.cors import CORSMiddleware\n",
        "# OpenAI Whisper\n",
        "import whisper\n",
        "# Sistema\n",
        "import os\n",
        "import requests\n",
        "from werkzeug.utils import secure_filename"
      ]
    },
    {
      "cell_type": "markdown",
      "metadata": {
        "id": "S2piYQ5L3EDe"
      },
      "source": [
        "## Variables y configuraciones"
      ]
    },
    {
      "cell_type": "code",
      "execution_count": 8,
      "metadata": {
        "id": "Ex_CgJLq3EDe"
      },
      "outputs": [],
      "source": [
        "USE_NGROK=True\n",
        "NGROK_TOKEN=\"2LbDfCormSj2F476pcyn7qWKgzV_7V3JJ1aA6fCrsLGB1WhT1\"\n",
        "BASE_URL=\"http://127.0.0.1\"\n",
        "PORT=5000\n",
        "LARAVEL_API_URL=\"https://7fbe-181-22-127-32.sa.ngrok.io/\""
      ]
    },
    {
      "cell_type": "markdown",
      "metadata": {
        "id": "dnGPAs7l3EDf"
      },
      "source": [
        "## Controladores"
      ]
    },
    {
      "cell_type": "code",
      "execution_count": 9,
      "metadata": {
        "id": "afObDtl33EDf"
      },
      "outputs": [],
      "source": [
        "def get_home():\n",
        "  return {\n",
        "    \"Hola\": \"Mundo!!\"\n",
        "  }\n",
        "\n",
        "def get_items(item_id: int):\n",
        "  # Aquí va la lógica para obtener un ítem específico\n",
        "  item = {\"id\": item_id, \"name\": \"Item {}\".format(item_id)}\n",
        "  return item\n",
        "\n",
        "def get_all_items():\n",
        "  # Aquí va la lógica para obtener todos los ítems\n",
        "  items = [{\"id\": i, \"name\": \"Item {}\".format(i)} for i in range(1, 11)]\n",
        "  return items"
      ]
    },
    {
      "cell_type": "markdown",
      "metadata": {
        "id": "rbrgsetg3EDg"
      },
      "source": [
        "## Rutas"
      ]
    },
    {
      "cell_type": "code",
      "execution_count": 21,
      "metadata": {
        "id": "rS5lcJp03EDg"
      },
      "outputs": [],
      "source": [
        "router = APIRouter()\n",
        "\n",
        "@router.get(\"/\")\n",
        "async def home():\n",
        "  return get_home()\n",
        "\n",
        "@router.get(\"/items/{item_id}\")\n",
        "async def read_item(item_id: int):\n",
        "  return get_items(item_id)\n",
        "\n",
        "@router.get(\"/items\")\n",
        "async def read_item():\n",
        "  return get_all_items()\n",
        "\n",
        "@router.post('/telegram-audio')\n",
        "#async def upload_file(file: UploadFile):\n",
        "async def upload_file():\n",
        "  print(\"prueba endpoint telegram\")\n",
        "  return {\"hola\":\"mundo\"}\n",
        "  \"\"\"\n",
        "  directory = '/content/uploads/'\n",
        "  if not os.path.exists(directory):\n",
        "    os.makedirs(directory)\n",
        "  print(\"despues de makedir\")\n",
        "  filename = secure_filename(file.filename)\n",
        "  print(\"1\")\n",
        "  with open(os.path.join(directory, filename), 'wb') as f:\n",
        "    f.write(await file.read())\n",
        "  print(\"2\")\n",
        "  print(LARAVEL_API_URL + 'api/telegram/whisper-handle')\n",
        "  response = requests.post(LARAVEL_API_URL + '/api/telegram/whisper-handle', json={'directory': directory, 'filename': filename, 'success': True})\n",
        "  print(response)\n",
        "  return response\n",
        "  \"\"\""
      ]
    },
    {
      "cell_type": "markdown",
      "metadata": {
        "id": "k3mBoU303EDh"
      },
      "source": [
        "## Lanzo la aplicación"
      ]
    },
    {
      "cell_type": "code",
      "execution_count": 22,
      "metadata": {
        "id": "4R47d2ow3EDh",
        "outputId": "87ac6944-2df1-4756-9afb-57ad5016f270",
        "colab": {
          "base_uri": "https://localhost:8080/"
        }
      },
      "outputs": [
        {
          "output_type": "stream",
          "name": "stdout",
          "text": [
            "ngrok tunnel \"http://c25c-35-229-140-33.ngrok.io\" -> \"http://127.0.0.1:5000\"\n"
          ]
        },
        {
          "output_type": "stream",
          "name": "stderr",
          "text": [
            "INFO:     Started server process [206]\n",
            "INFO:     Waiting for application startup.\n",
            "INFO:     Application startup complete.\n",
            "INFO:     Uvicorn running on http://127.0.0.1:5000 (Press CTRL+C to quit)\n"
          ]
        },
        {
          "output_type": "stream",
          "name": "stdout",
          "text": [
            "INFO:     2802:8010:10d:201:71a7:3594:c5d8:6eef:0 - \"GET / HTTP/1.1\" 200 OK\n",
            "INFO:     2802:8010:10d:201:71a7:3594:c5d8:6eef:0 - \"GET /favicon.ico HTTP/1.1\" 404 Not Found\n",
            "prueba endpoint telegram\n",
            "INFO:     181.22.127.32:0 - \"POST /telegram-audio HTTP/1.1\" 200 OK\n"
          ]
        },
        {
          "output_type": "stream",
          "name": "stderr",
          "text": [
            "INFO:     Shutting down\n",
            "INFO:     Waiting for application shutdown.\n",
            "INFO:     Application shutdown complete.\n",
            "INFO:     Finished server process [206]\n"
          ]
        }
      ],
      "source": [
        "app = FastAPI()\n",
        "\n",
        "app.add_middleware(\n",
        "  CORSMiddleware,\n",
        "  allow_origins=['*'],\n",
        "  allow_credentials=True,\n",
        "  allow_methods=['*'],\n",
        "  allow_headers=['*'],\n",
        ")\n",
        "\n",
        "app.include_router(router)\n",
        "\n",
        "if USE_NGROK:\n",
        "  # pyngrok should only ever be installed or initialized in a dev environment when this flag is set\n",
        "  from pyngrok import ngrok\n",
        "\n",
        "  ngrok.set_auth_token(NGROK_TOKEN)\n",
        "\n",
        "  # Open a ngrok tunnel to the dev server\n",
        "  public_url = ngrok.connect(PORT).public_url\n",
        "  print(\"ngrok tunnel \\\"{}\\\" -> \\\"{}:{}\\\"\".format(public_url, BASE_URL, PORT))\n",
        "\n",
        "# Esta línea se hizo necesaria en Google Colab para evitar un error\n",
        "nest_asyncio.apply()\n",
        "uvicorn.run(app, port=PORT, log_level=\"info\")"
      ]
    }
  ],
  "metadata": {
    "kernelspec": {
      "display_name": ".venv",
      "language": "python",
      "name": "python3"
    },
    "language_info": {
      "codemirror_mode": {
        "name": "ipython",
        "version": 3
      },
      "file_extension": ".py",
      "mimetype": "text/x-python",
      "name": "python",
      "nbconvert_exporter": "python",
      "pygments_lexer": "ipython3",
      "version": "3.10.0"
    },
    "orig_nbformat": 4,
    "vscode": {
      "interpreter": {
        "hash": "c14bee393694180ffa377cb4faa081bda41aca5cc0a65ca276d1b3c913ee88e0"
      }
    },
    "colab": {
      "provenance": []
    }
  },
  "nbformat": 4,
  "nbformat_minor": 0
}